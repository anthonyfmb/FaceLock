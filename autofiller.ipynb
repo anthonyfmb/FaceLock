{
 "cells": [
  {
   "cell_type": "code",
   "execution_count": 2,
   "metadata": {},
   "outputs": [
    {
     "name": "stdout",
     "output_type": "stream",
     "text": [
      "https://www.google.com/\n"
     ]
    }
   ],
   "source": [
    "from selenium import webdriver\n",
    "from selenium.webdriver.remote.webdriver import WebDriver as RemoteWebDriver\n",
    "from selenium.webdriver.chrome.service import Service\n",
    "from webdriver_manager.chrome import ChromeDriverManager\n",
    "\n",
    "DRIVER_PATH = '/chromdriver_mac/chromedriver'\n",
    "\n",
    "# Use in production\n",
    "driver = webdriver.Chrome(service=Service(ChromeDriverManager().install()))\n",
    " \n",
    "# Use in testing (deprecated)\n",
    "# driver = webdriver.Chrome(executable_path=DRIVER_PATH)\n",
    "# driver = webdriver.Firefox();\n",
    "\n",
    "url = driver.command_executor._url\n",
    "session_id = driver.session_id\n",
    "driver.get(\"http://www.google.com\")\n",
    "\n",
    "def create_driver_session(session_id, executor_url):\n",
    "    org_command_execute = RemoteWebDriver.execute\n",
    "\n",
    "    def new_command_execute(self, command, params=None):\n",
    "        if command == \"newSession\":\n",
    "            return {'success': 0, 'value': None, 'sessionId': session_id}\n",
    "        else:\n",
    "            return org_command_execute(self, command, params)\n",
    "\n",
    "    RemoteWebDriver.execute = new_command_execute\n",
    "\n",
    "    new_driver = webdriver.Remote(command_executor=url, desired_capabilities={})\n",
    "    new_driver.session_id = session_id\n",
    "\n",
    "    RemoteWebDriver.execute = org_command_execute\n",
    "\n",
    "    return new_driver\n",
    "\n",
    "driver2 = create_driver_session(session_id, url)\n",
    "\n",
    "print (driver2.current_url)\n",
    "\n",
    "# driver = webdriver.Remote(command_executor=url,desired_capabilities={})\n",
    "# driver.close()\n",
    "# driver.session_id = session_id\n"
   ]
  }
 ],
 "metadata": {
  "kernelspec": {
   "display_name": "FaceLock",
   "language": "python",
   "name": "python3"
  },
  "language_info": {
   "codemirror_mode": {
    "name": "ipython",
    "version": 3
   },
   "file_extension": ".py",
   "mimetype": "text/x-python",
   "name": "python",
   "nbconvert_exporter": "python",
   "pygments_lexer": "ipython3",
   "version": "3.10.9"
  },
  "orig_nbformat": 4,
  "vscode": {
   "interpreter": {
    "hash": "e3651d98a196779f7f4a4e66868de419b4d88075eda9900f9ff3e2ec12386773"
   }
  }
 },
 "nbformat": 4,
 "nbformat_minor": 2
}
