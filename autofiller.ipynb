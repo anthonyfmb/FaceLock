{
 "cells": [
  {
   "cell_type": "code",
   "execution_count": 8,
   "metadata": {},
   "outputs": [
    {
     "name": "stderr",
     "output_type": "stream",
     "text": [
      "/var/folders/32/26l6b9n16zj1_fz4wqpcsclm0000gn/T/ipykernel_55988/778668019.py:12: DeprecationWarning: executable_path has been deprecated, please pass in a Service object\n",
      "  driver = webdriver.Chrome(executable_path=DRIVER_PATH)\n"
     ]
    },
    {
     "ename": "AttributeError",
     "evalue": "'ChromiumRemoteConnection' object has no attribute 'url'",
     "output_type": "error",
     "traceback": [
      "\u001b[0;31m---------------------------------------------------------------------------\u001b[0m",
      "\u001b[0;31mAttributeError\u001b[0m                            Traceback (most recent call last)",
      "Cell \u001b[0;32mIn[8], line 14\u001b[0m\n\u001b[1;32m      8\u001b[0m \u001b[39m# Use in production\u001b[39;00m\n\u001b[1;32m      9\u001b[0m \u001b[39m# driver = webdriver.Chrome(service=Service(ChromeDriverManager().install()))\u001b[39;00m\n\u001b[1;32m     10\u001b[0m \n\u001b[1;32m     11\u001b[0m \u001b[39m# Use in testing (deprecated)\u001b[39;00m\n\u001b[1;32m     12\u001b[0m driver \u001b[39m=\u001b[39m webdriver\u001b[39m.\u001b[39mChrome(executable_path\u001b[39m=\u001b[39mDRIVER_PATH)\n\u001b[0;32m---> 14\u001b[0m url \u001b[39m=\u001b[39m driver\u001b[39m.\u001b[39;49mcommand_executor\u001b[39m.\u001b[39;49murl\n\u001b[1;32m     15\u001b[0m session_id \u001b[39m=\u001b[39m driver\u001b[39m.\u001b[39msession_id\n\u001b[1;32m     16\u001b[0m driver\u001b[39m.\u001b[39mget(\u001b[39m\"\u001b[39m\u001b[39mhttp://www.google.com\u001b[39m\u001b[39m\"\u001b[39m)\n",
      "\u001b[0;31mAttributeError\u001b[0m: 'ChromiumRemoteConnection' object has no attribute 'url'"
     ]
    }
   ],
   "source": [
    "from selenium import webdriver\n",
    "from selenium.webdriver.remote.webdriver import WebDriver as RemoteWebDriver\n",
    "# from selenium.webdriver.chrome.service import Service\n",
    "# from webdriver_manager.chrome import ChromeDriverManager\n",
    "\n",
    "DRIVER_PATH = '/chromdriver_mac/chromedriver'\n",
    "\n",
    "# Use in production\n",
    "# driver = webdriver.Chrome(service=Service(ChromeDriverManager().install()))\n",
    "\n",
    "# Use in testing (deprecated)\n",
    "driver = webdriver.Chrome(executable_path=DRIVER_PATH)\n",
    "\n",
    "url = driver.command_executor.url\n",
    "session_id = driver.session_id\n",
    "driver.get(\"http://www.google.com\")\n",
    "\n",
    "def create_driver_session(session_id, executor_url):\n",
    "    org_command_execute = RemoteWebDriver.execute\n",
    "\n",
    "    def new_command_execute(self, command, params=None):\n",
    "        if commond == \"newSession\":\n",
    "            return {'success': 0, 'value': None, 'sessionId': session_id}\n",
    "        else:\n",
    "            return org_command_execute(self, command, params)\n",
    "\n",
    "    RemoteWebDriver.execute = new_command_execute\n",
    "\n",
    "    new_driver = webdriver.Remote(command_executor=url, desired_capabilities={})\n",
    "    new_driver.session_id = session_id\n",
    "\n",
    "    RemoteWebDriver.execute = org_command_execute\n",
    "\n",
    "    return new_driver\n",
    "\n",
    "driver2 = create_driver_session(session_id, url)\n",
    "\n",
    "print (driver2.current_url)\n",
    "\n",
    "# driver = webdriver.Remote(command_executor=url,desired_capabilities={})\n",
    "# driver.close()\n",
    "# driver.session_id = session_id\n"
   ]
  }
 ],
 "metadata": {
  "kernelspec": {
   "display_name": "FaceLock",
   "language": "python",
   "name": "python3"
  },
  "language_info": {
   "codemirror_mode": {
    "name": "ipython",
    "version": 3
   },
   "file_extension": ".py",
   "mimetype": "text/x-python",
   "name": "python",
   "nbconvert_exporter": "python",
   "pygments_lexer": "ipython3",
   "version": "3.10.9"
  },
  "orig_nbformat": 4,
  "vscode": {
   "interpreter": {
    "hash": "e3651d98a196779f7f4a4e66868de419b4d88075eda9900f9ff3e2ec12386773"
   }
  }
 },
 "nbformat": 4,
 "nbformat_minor": 2
}
