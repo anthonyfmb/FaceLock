{
 "cells": [
  {
   "cell_type": "code",
   "execution_count": 1,
   "metadata": {},
   "outputs": [],
   "source": [
    "import cv2\n",
    "import os\n",
    "from pathlib import Path"
   ]
  },
  {
   "cell_type": "code",
   "execution_count": 2,
   "metadata": {},
   "outputs": [
    {
     "data": {
      "text/plain": [
       "-1"
      ]
     },
     "execution_count": 2,
     "metadata": {},
     "output_type": "execute_result"
    }
   ],
   "source": [
    "cap = cv2.VideoCapture(0)\n",
    "face_classifier = cv2.CascadeClassifier('haarcascade_frontalface_default.xml')\n",
    "\n",
    "valid_user_dir = \"valid_user\"\n",
    "Path(valid_user_dir).mkdir(parents=True, exist_ok=True)\n",
    "\n",
    "cv2.startWindowThread()\n",
    "\n",
    "count = 0\n",
    "while True:\n",
    "  read_ok, frame = cap.read()\n",
    "  labels = []\n",
    "  gray_img = cv2.cvtColor(frame, cv2.COLOR_BGR2GRAY)\n",
    "\n",
    "  faces = face_classifier.detectMultiScale(\n",
    "    gray_img,     \n",
    "    scaleFactor=1.2,\n",
    "    minNeighbors=5,     \n",
    "    minSize=(20, 20)\n",
    "  )\n",
    "\n",
    "  for (x, y, w, h) in faces:\n",
    "    cv2.imwrite(os.path.join(valid_user_dir, f\"{count}.png\"), frame[y:y+h,x:x+w])\n",
    "    count += 1\n",
    "\n",
    "    if count >= 49:\n",
    "      cap.release()\n",
    "      break\n",
    "    # if len(os.listdir(valid_user_dir)) >= 50:\n",
    "    #   break\n",
    "\n",
    "    cv2.rectangle(frame, (x, y), (x + w, y + h), (0, 255, 0), 2)\n",
    "  else:\n",
    "    cv2.imshow('Face Detector', frame)\n",
    "    if cv2.waitKey(1) & 0xFF == ord('x'):\n",
    "      break\n",
    "    continue\n",
    "  break\n",
    " \n",
    "cap.release()\n",
    "cv2.waitKey(1)\n",
    "cv2.destroyAllWindows()\n",
    "cv2.waitKey(1)\n"
   ]
  },
  {
   "cell_type": "code",
   "execution_count": 2,
   "metadata": {},
   "outputs": [],
   "source": [
    "from pathlib import Path\n",
    "\n",
    "\n",
    "train_valid_user_folder = \"./train/valid_user\"\n",
    "train_imposters_folder = \"./train/imposters\"\n",
    "\n",
    "Path(train_valid_user_folder).mkdir(parents=True, exist_ok=True)\n",
    "Path(train_imposters_folder).mkdir(parents=True, exist_ok=True)\n",
    "\n",
    "test_valid_user_folder = \"./test/valid_user\"\n",
    "test_imposters_folder = \"./test/imposters\"\n",
    "\n",
    "Path(test_valid_user_folder).mkdir(parents=True, exist_ok=True)\n",
    "Path(test_imposters_folder).mkdir(parents=True, exist_ok=True)"
   ]
  },
  {
   "cell_type": "markdown",
   "metadata": {},
   "source": []
  }
 ],
 "metadata": {
  "kernelspec": {
   "display_name": "facelock",
   "language": "python",
   "name": "python3"
  },
  "language_info": {
   "codemirror_mode": {
    "name": "ipython",
    "version": 3
   },
   "file_extension": ".py",
   "mimetype": "text/x-python",
   "name": "python",
   "nbconvert_exporter": "python",
   "pygments_lexer": "ipython3",
   "version": "3.10.9"
  },
  "orig_nbformat": 4,
  "vscode": {
   "interpreter": {
    "hash": "6c667892099f42bf555697e6ddd843b3e60f7e972b869da7d2b8ed02a4e7ccf9"
   }
  }
 },
 "nbformat": 4,
 "nbformat_minor": 2
}
