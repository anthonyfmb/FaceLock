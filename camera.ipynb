{
 "cells": [
  {
   "cell_type": "code",
   "execution_count": 1,
   "metadata": {},
   "outputs": [],
   "source": [
    "import cv2\n",
    "import os\n",
    "from pathlib import Path"
   ]
  },
  {
   "cell_type": "code",
   "execution_count": 2,
   "metadata": {},
   "outputs": [
    {
     "ename": "KeyboardInterrupt",
     "evalue": "",
     "output_type": "error",
     "traceback": [
      "\u001b[0;31m---------------------------------------------------------------------------\u001b[0m",
      "\u001b[0;31mKeyboardInterrupt\u001b[0m                         Traceback (most recent call last)",
      "Cell \u001b[0;32mIn[2], line 11\u001b[0m\n\u001b[1;32m      7\u001b[0m cv2\u001b[39m.\u001b[39mstartWindowThread()\n\u001b[1;32m     10\u001b[0m \u001b[39mwhile\u001b[39;00m \u001b[39mTrue\u001b[39;00m:\n\u001b[0;32m---> 11\u001b[0m   read_ok, frame \u001b[39m=\u001b[39m cap\u001b[39m.\u001b[39;49mread()\n\u001b[1;32m     12\u001b[0m   labels \u001b[39m=\u001b[39m []\n\u001b[1;32m     13\u001b[0m   gray_img \u001b[39m=\u001b[39m cv2\u001b[39m.\u001b[39mcvtColor(frame, cv2\u001b[39m.\u001b[39mCOLOR_BGR2GRAY)\n",
      "\u001b[0;31mKeyboardInterrupt\u001b[0m: "
     ]
    },
    {
     "ename": "",
     "evalue": "",
     "output_type": "error",
     "traceback": [
      "\u001b[1;31mThe Kernel crashed while executing code in the the current cell or a previous cell. Please review the code in the cell(s) to identify a possible cause of the failure. Click <a href='https://aka.ms/vscodeJupyterKernelCrash'>here</a> for more info. View Jupyter <a href='command:jupyter.viewOutput'>log</a> for further details."
     ]
    }
   ],
   "source": [
    "cap = cv2.VideoCapture(0)\n",
    "face_classifier = cv2.CascadeClassifier('haarcascade_frontalface_default.xml')\n",
    "count = 0\n",
    "valid_user_dir = \"valid_user\"\n",
    "Path(valid_user_dir).mkdir(parents=True, exist_ok=True)\n",
    "\n",
    "cv2.startWindowThread()\n",
    "\n",
    "\n",
    "while True:\n",
    "  read_ok, frame = cap.read()\n",
    "  labels = []\n",
    "  gray_img = cv2.cvtColor(frame, cv2.COLOR_BGR2GRAY)\n",
    "\n",
    "  faces = face_classifier.detectMultiScale(\n",
    "    gray_img,     \n",
    "    scaleFactor=1.2,\n",
    "    minNeighbors=5,     \n",
    "    minSize=(20, 20)\n",
    "  )\n",
    "\n",
    "  for (x, y, w, h) in faces:\n",
    "    if count < 600:\n",
    "      cv2.imwrite(os.path.join(valid_user_dir, f\"{count}.png\"), frame[y:y+h,x:x+w])\n",
    "      count += 1\n",
    "    else:\n",
    "      # cap.release()\n",
    "      # cv2.waitKey(1)\n",
    "      # cv2.destroyAllWindows()\n",
    "      # cv2.waitKey(1)\n",
    "      break\n",
    "    cv2.rectangle(frame, (x, y), (x + w, y + h), (0, 255, 0), 2)\n",
    "  cv2.imshow('Face Detector', frame)\n",
    "  if cv2.waitKey(1) & 0xFF == ord('x'):\n",
    "    break\n",
    " \n",
    "cap.release()\n",
    "cv2.waitKey(1)\n",
    "cv2.destroyAllWindows()\n",
    "cv2.waitKey(1)\n"
   ]
  },
  {
   "cell_type": "markdown",
   "metadata": {},
   "source": []
  }
 ],
 "metadata": {
  "kernelspec": {
   "display_name": "facelock",
   "language": "python",
   "name": "python3"
  },
  "language_info": {
   "codemirror_mode": {
    "name": "ipython",
    "version": 3
   },
   "file_extension": ".py",
   "mimetype": "text/x-python",
   "name": "python",
   "nbconvert_exporter": "python",
   "pygments_lexer": "ipython3",
   "version": "3.10.9"
  },
  "orig_nbformat": 4,
  "vscode": {
   "interpreter": {
    "hash": "6c667892099f42bf555697e6ddd843b3e60f7e972b869da7d2b8ed02a4e7ccf9"
   }
  }
 },
 "nbformat": 4,
 "nbformat_minor": 2
}
