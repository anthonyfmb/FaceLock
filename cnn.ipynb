{
 "cells": [
  {
   "cell_type": "code",
   "execution_count": 69,
   "metadata": {},
   "outputs": [],
   "source": [
    "import tensorflow as tf\n",
    "import numpy as np\n",
    "from tensorflow import keras\n",
    "import os\n",
    "import cv2\n",
    "from tensorflow.keras.preprocessing.image import ImageDataGenerator\n",
    "from tensorflow.keras.preprocessing import image\n",
    "import matplotlib.pyplot as plt\n",
    "from pathlib import Path\n",
    "import shutil"
   ]
  },
  {
   "cell_type": "code",
   "execution_count": 70,
   "metadata": {},
   "outputs": [],
   "source": [
    "def removeIdentifierFile(path):\n",
    "    for file in os.listdir(path):\n",
    "        if file.find(\".Identifier\") != -1:\n",
    "            os.remove(os.path.join(path, file))"
   ]
  },
  {
   "cell_type": "code",
   "execution_count": 71,
   "metadata": {},
   "outputs": [],
   "source": [
    "import os, random\n",
    "\n",
    "raw_imposters_folder = \"imposters\"\n",
    "raw_valid_user_folder = \"valid_user\"\n",
    "\n",
    "removeIdentifierFile(raw_imposters_folder)\n",
    "removeIdentifierFile(raw_valid_user_folder)\n",
    "\n",
    "img_count = 500 # img taken from each class\n",
    "\n",
    "imposter_filenames = random.sample(os.listdir(raw_imposters_folder), img_count)\n",
    "valid_user_filenames = random.sample(os.listdir(raw_valid_user_folder), img_count)\n",
    "\n",
    "train_valid_user_folder = \"train/valid_user\"\n",
    "train_imposters_folder = \"train/imposters\"\n",
    "\n",
    "Path(train_valid_user_folder).mkdir(parents=True, exist_ok=True)\n",
    "Path(train_imposters_folder).mkdir(parents=True, exist_ok=True)\n",
    "\n",
    "test_valid_user_folder = \"test/valid_user\"\n",
    "test_imposters_folder = \"test/imposters\"\n",
    "\n",
    "Path(test_valid_user_folder).mkdir(parents=True, exist_ok=True)\n",
    "Path(test_imposters_folder).mkdir(parents=True, exist_ok=True)\n"
   ]
  },
  {
   "cell_type": "code",
   "execution_count": 72,
   "metadata": {},
   "outputs": [
    {
     "name": "stdout",
     "output_type": "stream",
     "text": [
      "450\n",
      "50\n"
     ]
    }
   ],
   "source": [
    "class_training_size = int(img_count * 0.9)\n",
    "\n",
    "count = 0\n",
    "for imposter_filename in imposter_filenames[:class_training_size]:\n",
    "    shutil.copy(os.path.join(raw_imposters_folder, imposter_filename), os.path.join(train_imposters_folder, imposter_filename))\n",
    "    count += 1\n",
    "\n",
    "count = 0\n",
    "for imposter_filename in imposter_filenames[class_training_size:]:\n",
    "    shutil.copy(os.path.join(raw_imposters_folder, imposter_filename), os.path.join(test_imposters_folder, imposter_filename))\n",
    "\n",
    "\n",
    "for valid_user_filename in valid_user_filenames[:class_training_size]:\n",
    "    shutil.copy(os.path.join(raw_valid_user_folder, valid_user_filename), os.path.join(train_valid_user_folder, valid_user_filename))\n",
    "\n",
    "for valid_user_filename in valid_user_filenames[class_training_size:]:\n",
    "    shutil.copy(os.path.join(raw_valid_user_folder, valid_user_filename), os.path.join(test_valid_user_folder, valid_user_filename))\n",
    "\n",
    "removeIdentifierFile(train_imposters_folder)\n",
    "removeIdentifierFile(test_imposters_folder)\n",
    "removeIdentifierFile(train_valid_user_folder)\n",
    "removeIdentifierFile(test_valid_user_folder)\n"
   ]
  }
 ],
 "metadata": {
  "kernelspec": {
   "display_name": "Python 3",
   "language": "python",
   "name": "python3"
  },
  "language_info": {
   "codemirror_mode": {
    "name": "ipython",
    "version": 3
   },
   "file_extension": ".py",
   "mimetype": "text/x-python",
   "name": "python",
   "nbconvert_exporter": "python",
   "pygments_lexer": "ipython3",
   "version": "3.8.10"
  },
  "orig_nbformat": 4,
  "vscode": {
   "interpreter": {
    "hash": "916dbcbb3f70747c44a77c7bcd40155683ae19c65e1c03b4aa3499c5328201f1"
   }
  }
 },
 "nbformat": 4,
 "nbformat_minor": 2
}
