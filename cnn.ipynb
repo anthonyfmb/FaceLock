{
 "cells": [
  {
   "cell_type": "code",
   "execution_count": 51,
   "metadata": {},
   "outputs": [],
   "source": [
    "import tensorflow as tf\n",
    "import numpy as np\n",
    "from tensorflow import keras\n",
    "import os\n",
    "import cv2\n",
    "from tensorflow.keras.preprocessing.image import ImageDataGenerator\n",
    "from tensorflow.keras.preprocessing import image\n",
    "import matplotlib.pyplot as plt\n",
    "from pathlib import Path\n",
    "import shutil"
   ]
  },
  {
   "cell_type": "code",
   "execution_count": 52,
   "metadata": {},
   "outputs": [],
   "source": [
    "def removeIdentifierFile(path):\n",
    "    for file in os.listdir(path):\n",
    "        if file.find(\".Identifier\") != -1:\n",
    "            os.remove(os.path.join(path, file))"
   ]
  },
  {
   "cell_type": "code",
   "execution_count": 53,
   "metadata": {},
   "outputs": [],
   "source": [
    "import os, random\n",
    "\n",
    "raw_imposters_folder = \"imposters\"\n",
    "raw_valid_user_folder = \"valid_user\"\n",
    "\n",
    "removeIdentifierFile(raw_imposters_folder)\n",
    "removeIdentifierFile(raw_valid_user_folder)\n",
    "\n",
    "img_count = 500 # img taken from each class\n",
    "\n",
    "imposter_filenames = random.sample(os.listdir(raw_imposters_folder), img_count)\n",
    "valid_user_filenames = random.sample(os.listdir(raw_valid_user_folder), img_count)\n",
    "\n",
    "train_valid_user_folder = \"train/valid_user\"\n",
    "train_imposters_folder = \"train/imposters\"\n",
    "\n",
    "Path(train_valid_user_folder).mkdir(parents=True, exist_ok=True)\n",
    "Path(train_imposters_folder).mkdir(parents=True, exist_ok=True)\n",
    "\n",
    "test_valid_user_folder = \"test/valid_user\"\n",
    "test_imposters_folder = \"test/imposters\"\n",
    "\n",
    "Path(test_valid_user_folder).mkdir(parents=True, exist_ok=True)\n",
    "Path(test_imposters_folder).mkdir(parents=True, exist_ok=True)\n"
   ]
  },
  {
   "cell_type": "code",
   "execution_count": 54,
   "metadata": {},
   "outputs": [],
   "source": [
    "class_training_size = int(img_count * 0.9)\n",
    "\n",
    "count = 0\n",
    "for imposter_filename in imposter_filenames[:class_training_size]:\n",
    "    shutil.copy(os.path.join(raw_imposters_folder, imposter_filename), os.path.join(train_imposters_folder, imposter_filename))\n",
    "    count += 1\n",
    "\n",
    "count = 0\n",
    "for imposter_filename in imposter_filenames[class_training_size:]:\n",
    "    shutil.copy(os.path.join(raw_imposters_folder, imposter_filename), os.path.join(test_imposters_folder, imposter_filename))\n",
    "\n",
    "\n",
    "for valid_user_filename in valid_user_filenames[:class_training_size]:\n",
    "    shutil.copy(os.path.join(raw_valid_user_folder, valid_user_filename), os.path.join(train_valid_user_folder, valid_user_filename))\n",
    "\n",
    "for valid_user_filename in valid_user_filenames[class_training_size:]:\n",
    "    shutil.copy(os.path.join(raw_valid_user_folder, valid_user_filename), os.path.join(test_valid_user_folder, valid_user_filename))\n",
    "\n",
    "removeIdentifierFile(train_imposters_folder)\n",
    "removeIdentifierFile(test_imposters_folder)\n",
    "removeIdentifierFile(train_valid_user_folder)\n",
    "removeIdentifierFile(test_valid_user_folder)\n"
   ]
  },
  {
   "cell_type": "code",
   "execution_count": 55,
   "metadata": {},
   "outputs": [
    {
     "name": "stdout",
     "output_type": "stream",
     "text": [
      "Found 900 images belonging to 2 classes.\n",
      "Found 100 images belonging to 2 classes.\n"
     ]
    }
   ],
   "source": [
    "train = ImageDataGenerator(rescale=1/255)\n",
    "test = ImageDataGenerator(rescale=1/255)\n",
    "\n",
    "train_dataset = train.flow_from_directory(\"train\",\n",
    "    target_size=(150,150),\n",
    "    batch_size = 32,\n",
    "    class_mode = 'binary')\n",
    "                                         \n",
    "test_dataset = test.flow_from_directory(\"test\",\n",
    "    target_size=(150,150),\n",
    "    batch_size =32,\n",
    "    class_mode = 'binary')"
   ]
  },
  {
   "cell_type": "code",
   "execution_count": 56,
   "metadata": {},
   "outputs": [
    {
     "data": {
      "text/plain": [
       "{'imposters': 0, 'valid_user': 1}"
      ]
     },
     "execution_count": 56,
     "metadata": {},
     "output_type": "execute_result"
    }
   ],
   "source": [
    "test_dataset.class_indices\n"
   ]
  },
  {
   "cell_type": "code",
   "execution_count": 57,
   "metadata": {},
   "outputs": [],
   "source": [
    "model = keras.Sequential()\n",
    "\n",
    "model.add(keras.layers.Conv2D(32,(3,3),activation='relu',input_shape=(150,150,3)))\n",
    "model.add(keras.layers.MaxPool2D(2,2))\n",
    "\n",
    "model.add(keras.layers.Conv2D(64,(3,3),activation='relu'))\n",
    "model.add(keras.layers.MaxPool2D(2,2))\n",
    "\n",
    "model.add(keras.layers.Conv2D(128,(3,3),activation='relu'))\n",
    "model.add(keras.layers.MaxPool2D(2,2))\n",
    "\n",
    "model.add(keras.layers.Conv2D(128,(3,3),activation='relu'))\n",
    "model.add(keras.layers.MaxPool2D(2,2))\n",
    "\n",
    "model.add(keras.layers.Flatten())\n",
    "\n",
    "model.add(keras.layers.Dense(512,activation='relu'))\n",
    "\n",
    "model.add(keras.layers.Dense(1,activation='sigmoid'))"
   ]
  },
  {
   "cell_type": "code",
   "execution_count": 58,
   "metadata": {},
   "outputs": [],
   "source": [
    "model.compile(optimizer='adam',loss='binary_crossentropy',metrics=['accuracy'])"
   ]
  },
  {
   "cell_type": "code",
   "execution_count": 59,
   "metadata": {},
   "outputs": [
    {
     "name": "stderr",
     "output_type": "stream",
     "text": [
      "/tmp/ipykernel_1448/1593974248.py:1: UserWarning: `Model.fit_generator` is deprecated and will be removed in a future version. Please use `Model.fit`, which supports generators.\n",
      "  model.fit_generator(train_dataset,\n"
     ]
    },
    {
     "name": "stdout",
     "output_type": "stream",
     "text": [
      "Epoch 1/10\n",
      " 29/250 [==>...........................] - ETA: 1:55 - loss: 0.2633 - accuracy: 0.8722WARNING:tensorflow:Your input ran out of data; interrupting training. Make sure that your dataset or generator can generate at least `steps_per_epoch * epochs` batches (in this case, 2500 batches). You may need to use the repeat() function when building your dataset.\n"
     ]
    },
    {
     "name": "stderr",
     "output_type": "stream",
     "text": [
      "WARNING:tensorflow:Your input ran out of data; interrupting training. Make sure that your dataset or generator can generate at least `steps_per_epoch * epochs` batches (in this case, 2500 batches). You may need to use the repeat() function when building your dataset.\n"
     ]
    },
    {
     "name": "stdout",
     "output_type": "stream",
     "text": [
      "250/250 [==============================] - 19s 64ms/step - loss: 0.2633 - accuracy: 0.8722 - val_loss: 0.0053 - val_accuracy: 1.0000\n"
     ]
    },
    {
     "name": "stderr",
     "output_type": "stream",
     "text": [
      "WARNING:absl:Found untraced functions such as _jit_compiled_convolution_op, _jit_compiled_convolution_op, _jit_compiled_convolution_op, _jit_compiled_convolution_op, _update_step_xla while saving (showing 5 of 5). These functions will not be directly callable after loading.\n"
     ]
    },
    {
     "name": "stdout",
     "output_type": "stream",
     "text": [
      "INFO:tensorflow:Assets written to: classifier/assets\n"
     ]
    },
    {
     "name": "stderr",
     "output_type": "stream",
     "text": [
      "INFO:tensorflow:Assets written to: classifier/assets\n"
     ]
    }
   ],
   "source": [
    "model.fit_generator(train_dataset,\n",
    "    steps_per_epoch = 250,\n",
    "    epochs = 10,\n",
    "    validation_data = test_dataset\n",
    ")\n",
    "\n",
    "model.save('classifier')"
   ]
  },
  {
   "cell_type": "code",
   "execution_count": 60,
   "metadata": {},
   "outputs": [],
   "source": [
    "def predictImage(filename):\n",
    "    img1 = image.load_img(filename,target_size=(150,150))\n",
    "    model = tf.keras.models.load_model('classifier')\n",
    " \n",
    "    Y = image.img_to_array(img1)\n",
    "    \n",
    "    X = np.expand_dims(Y,axis=0)\n",
    "    val = model.predict(X, verbose=0)\n",
    "    return val[0][0]\n",
    "\n",
    "\n"
   ]
  },
  {
   "cell_type": "code",
   "execution_count": 61,
   "metadata": {},
   "outputs": [
    {
     "name": "stdout",
     "output_type": "stream",
     "text": [
      "5797.png correct 0.0\n",
      "2489.png correct 0.0\n",
      "5949.png correct 0.0\n",
      "6284.png correct 0.0\n",
      "3766.png correct 0.0\n",
      "5525.png correct 0.0\n",
      "5011.png correct 0.0\n",
      "3222.png correct 0.0\n",
      "5363.png correct 0.0\n",
      "5195.png correct 0.0\n",
      "2977.png correct 0.0\n",
      "2491.png correct 0.0\n",
      "0335.png correct 0.0\n",
      "0775.png correct 0.0\n",
      "1217.png correct 0.0\n",
      "2395.png correct 0.0\n",
      "0749.png correct 0.0\n",
      "5889.png correct 0.0\n",
      "3535.png correct 0.0\n",
      "5741.png correct 0.0\n",
      "5848.png correct 0.0\n",
      "0604.png correct 0.0\n",
      "4852.png correct 0.0\n",
      "1123.png correct 0.0\n",
      "6834.png correct 0.0\n",
      "2881.png correct 0.0\n",
      "6480.png correct 0.0\n",
      "5868.png correct 0.0\n",
      "5539.png correct 0.0\n",
      "3575.png correct 0.0\n",
      "3597.png correct 0.0\n",
      "0092.png correct 0.0\n",
      "6436.png correct 0.0\n",
      "0111.png correct 0.0\n",
      "3773.png correct 0.0\n",
      "5775.png correct 0.0\n",
      "4318.png correct 0.0\n",
      "5565.png correct 0.0\n",
      "2682.png correct 0.0\n",
      "5103.png correct 0.0\n",
      "3827.png correct 0.0\n",
      "6689.png correct 0.0\n",
      "6586.png correct 0.0\n",
      "4829.png correct 0.0\n",
      "3822.png correct 0.0\n",
      "6283.png correct 0.0\n",
      "0507.png correct 0.0\n",
      "0657.png correct 0.0\n",
      "5509.png correct 0.0\n",
      "2854.png correct 0.0\n",
      "580.png correct 1.0\n",
      "292.png correct 1.0\n",
      "209.png correct 1.0\n",
      "113.png correct 1.0\n",
      "123.png correct 1.0\n",
      "7.png correct 1.0\n",
      "88.png correct 1.0\n",
      "420.png correct 1.0\n",
      "263.png correct 1.0\n",
      "409.png correct 1.0\n",
      "359.png correct 1.0\n",
      "494.png correct 1.0\n",
      "445.png correct 1.0\n",
      "181.png correct 1.0\n",
      "330.png correct 1.0\n",
      "495.png correct 1.0\n",
      "522.png correct 1.0\n",
      "103.png correct 1.0\n",
      "100.png correct 1.0\n",
      "447.png correct 1.0\n",
      "543.png correct 1.0\n",
      "256.png correct 1.0\n",
      "496.png correct 1.0\n",
      "534.png correct 1.0\n",
      "418.png correct 1.0\n",
      "521.png correct 1.0\n",
      "133.png correct 1.0\n",
      "523.png correct 1.0\n",
      "391.png correct 1.0\n",
      "261.png correct 1.0\n",
      "167.png correct 1.0\n",
      "98.png correct 1.0\n",
      "383.png correct 1.0\n",
      "504.png correct 1.0\n",
      "326.png correct 1.0\n",
      "506.png correct 1.0\n",
      "309.png correct 1.0\n",
      "547.png correct 1.0\n",
      "58.png correct 1.0\n",
      "124.png correct 1.0\n",
      "238.png correct 1.0\n",
      "322.png correct 1.0\n",
      "492.png correct 1.0\n",
      "516.png correct 1.0\n",
      "488.png correct 1.0\n",
      "104.png correct 1.0\n",
      "509.png correct 1.0\n",
      "93.png correct 1.0\n",
      "474.png correct 1.0\n",
      "190.png correct 1.0\n"
     ]
    }
   ],
   "source": [
    "test_imposter = \"test/imposters\"\n",
    "test_valid_user = \"test/valid_user\"\n",
    "correct_count = 0\n",
    "wrong_count = 0\n",
    "count = 0\n",
    "\n",
    "for file in os.listdir(test_imposter):\n",
    "    id = predictImage(os.path.join(test_imposter, file))\n",
    "    count += 1\n",
    "    if id == 0:\n",
    "        correct_count += 1\n",
    "        print(f\"{file} correct {id}\")\n",
    "    else:\n",
    "        wrong_count += 1\n",
    "        print(f\"{file} wrong {id}\")\n",
    "\n",
    "\n",
    "for file in os.listdir(test_valid_user):\n",
    "    id = predictImage(os.path.join(test_valid_user, file))\n",
    "    count += 1\n",
    "    if id == 1:\n",
    "        correct_count += 1\n",
    "        print(f\"{file} correct {id}\")\n",
    "    else:\n",
    "        wrong_count += 1\n",
    "        print(f\"{file} wrong {id}\")"
   ]
  },
  {
   "cell_type": "code",
   "execution_count": 62,
   "metadata": {},
   "outputs": [
    {
     "name": "stdout",
     "output_type": "stream",
     "text": [
      "1.0\n"
     ]
    }
   ],
   "source": [
    "print(correct_count / count)\n"
   ]
  },
  {
   "cell_type": "code",
   "execution_count": null,
   "metadata": {},
   "outputs": [],
   "source": []
  }
 ],
 "metadata": {
  "kernelspec": {
   "display_name": "Python 3",
   "language": "python",
   "name": "python3"
  },
  "language_info": {
   "codemirror_mode": {
    "name": "ipython",
    "version": 3
   },
   "file_extension": ".py",
   "mimetype": "text/x-python",
   "name": "python",
   "nbconvert_exporter": "python",
   "pygments_lexer": "ipython3",
   "version": "3.8.10"
  },
  "orig_nbformat": 4,
  "vscode": {
   "interpreter": {
    "hash": "916dbcbb3f70747c44a77c7bcd40155683ae19c65e1c03b4aa3499c5328201f1"
   }
  }
 },
 "nbformat": 4,
 "nbformat_minor": 2
}
