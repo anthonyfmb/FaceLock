{
 "cells": [
  {
   "cell_type": "code",
   "execution_count": 39,
   "metadata": {},
   "outputs": [],
   "source": [
    "import tensorflow as tf\n",
    "import numpy as np\n",
    "from tensorflow import keras\n",
    "import os\n",
    "import cv2\n",
    "from tensorflow.keras.preprocessing.image import ImageDataGenerator\n",
    "from tensorflow.keras.preprocessing import image\n",
    "import matplotlib.pyplot as plt\n",
    "from pathlib import Path\n",
    "import shutil"
   ]
  },
  {
   "cell_type": "code",
   "execution_count": 40,
   "metadata": {},
   "outputs": [],
   "source": [
    "def removeIdentifierFile(path):\n",
    "    for file in os.listdir(path):\n",
    "        if file.find(\".Identifier\") != -1:\n",
    "            os.remove(os.path.join(path, file))"
   ]
  },
  {
   "cell_type": "code",
   "execution_count": 41,
   "metadata": {},
   "outputs": [],
   "source": [
    "import os, random\n",
    "\n",
    "raw_imposters_folder = \"new_imposter\"\n",
    "raw_valid_user_folder = \"valid_user\"\n",
    "\n",
    "removeIdentifierFile(raw_imposters_folder)\n",
    "removeIdentifierFile(raw_valid_user_folder)\n",
    "\n",
    "img_count = 500 # img taken from each class\n",
    "\n",
    "imposter_filenames = random.sample(os.listdir(raw_imposters_folder), img_count)\n",
    "valid_user_filenames = random.sample(os.listdir(raw_valid_user_folder), img_count)\n",
    "\n",
    "train_valid_user_folder = \"train/valid_user\"\n",
    "train_imposters_folder = \"train/imposters\"\n",
    "\n",
    "Path(train_valid_user_folder).mkdir(parents=True, exist_ok=True)\n",
    "Path(train_imposters_folder).mkdir(parents=True, exist_ok=True)\n",
    "\n",
    "test_valid_user_folder = \"test/valid_user\"\n",
    "test_imposters_folder = \"test/imposters\"\n",
    "\n",
    "Path(test_valid_user_folder).mkdir(parents=True, exist_ok=True)\n",
    "Path(test_imposters_folder).mkdir(parents=True, exist_ok=True)\n"
   ]
  },
  {
   "cell_type": "code",
   "execution_count": 42,
   "metadata": {},
   "outputs": [],
   "source": [
    "class_training_size = int(img_count * 0.9)\n",
    "\n",
    "count = 0\n",
    "for imposter_filename in imposter_filenames[:class_training_size]:\n",
    "    shutil.copy(os.path.join(raw_imposters_folder, imposter_filename), os.path.join(train_imposters_folder, imposter_filename))\n",
    "    count += 1\n",
    "\n",
    "count = 0\n",
    "for imposter_filename in imposter_filenames[class_training_size:]:\n",
    "    shutil.copy(os.path.join(raw_imposters_folder, imposter_filename), os.path.join(test_imposters_folder, imposter_filename))\n",
    "\n",
    "\n",
    "for valid_user_filename in valid_user_filenames[:class_training_size]:\n",
    "    shutil.copy(os.path.join(raw_valid_user_folder, valid_user_filename), os.path.join(train_valid_user_folder, valid_user_filename))\n",
    "\n",
    "for valid_user_filename in valid_user_filenames[class_training_size:]:\n",
    "    shutil.copy(os.path.join(raw_valid_user_folder, valid_user_filename), os.path.join(test_valid_user_folder, valid_user_filename))\n",
    "\n",
    "removeIdentifierFile(train_imposters_folder)\n",
    "removeIdentifierFile(test_imposters_folder)\n",
    "removeIdentifierFile(train_valid_user_folder)\n",
    "removeIdentifierFile(test_valid_user_folder)\n"
   ]
  },
  {
   "cell_type": "code",
   "execution_count": 43,
   "metadata": {},
   "outputs": [
    {
     "name": "stdout",
     "output_type": "stream",
     "text": [
      "Found 900 images belonging to 2 classes.\n",
      "Found 100 images belonging to 2 classes.\n"
     ]
    }
   ],
   "source": [
    "train = ImageDataGenerator(rescale=1/255)\n",
    "test = ImageDataGenerator(rescale=1/255)\n",
    "\n",
    "train_dataset = train.flow_from_directory(\"train\",\n",
    "    target_size=(150,150),\n",
    "    batch_size = 32,\n",
    "    class_mode = 'binary')\n",
    "                                         \n",
    "test_dataset = test.flow_from_directory(\"test\",\n",
    "    target_size=(150,150),\n",
    "    batch_size =32,\n",
    "    class_mode = 'binary')"
   ]
  },
  {
   "cell_type": "code",
   "execution_count": 44,
   "metadata": {},
   "outputs": [
    {
     "data": {
      "text/plain": [
       "{'imposters': 0, 'valid_user': 1}"
      ]
     },
     "execution_count": 44,
     "metadata": {},
     "output_type": "execute_result"
    }
   ],
   "source": [
    "test_dataset.class_indices\n"
   ]
  },
  {
   "cell_type": "code",
   "execution_count": 45,
   "metadata": {},
   "outputs": [],
   "source": [
    "model = keras.Sequential()\n",
    "\n",
    "model.add(keras.layers.Conv2D(32,(3,3),activation='relu',input_shape=(150,150,3)))\n",
    "model.add(keras.layers.MaxPool2D(2,2))\n",
    "\n",
    "model.add(keras.layers.Conv2D(64,(3,3),activation='relu'))\n",
    "model.add(keras.layers.MaxPool2D(2,2))\n",
    "\n",
    "model.add(keras.layers.Conv2D(128,(3,3),activation='relu'))\n",
    "model.add(keras.layers.MaxPool2D(2,2))\n",
    "\n",
    "model.add(keras.layers.Conv2D(128,(3,3),activation='relu'))\n",
    "model.add(keras.layers.MaxPool2D(2,2))\n",
    "\n",
    "model.add(keras.layers.Flatten())\n",
    "\n",
    "model.add(keras.layers.Dense(512,activation='relu'))\n",
    "\n",
    "model.add(keras.layers.Dense(1,activation='sigmoid'))"
   ]
  },
  {
   "cell_type": "code",
   "execution_count": 46,
   "metadata": {},
   "outputs": [],
   "source": [
    "model.compile(optimizer='adam',loss='binary_crossentropy',metrics=['accuracy'])"
   ]
  },
  {
   "cell_type": "code",
   "execution_count": 47,
   "metadata": {},
   "outputs": [
    {
     "name": "stderr",
     "output_type": "stream",
     "text": [
      "/tmp/ipykernel_1448/1593974248.py:1: UserWarning: `Model.fit_generator` is deprecated and will be removed in a future version. Please use `Model.fit`, which supports generators.\n",
      "  model.fit_generator(train_dataset,\n"
     ]
    },
    {
     "name": "stdout",
     "output_type": "stream",
     "text": [
      "Epoch 1/10\n",
      " 29/250 [==>...........................] - ETA: 1:18 - loss: 0.1893 - accuracy: 0.9133WARNING:tensorflow:Your input ran out of data; interrupting training. Make sure that your dataset or generator can generate at least `steps_per_epoch * epochs` batches (in this case, 2500 batches). You may need to use the repeat() function when building your dataset.\n"
     ]
    },
    {
     "name": "stderr",
     "output_type": "stream",
     "text": [
      "WARNING:tensorflow:Your input ran out of data; interrupting training. Make sure that your dataset or generator can generate at least `steps_per_epoch * epochs` batches (in this case, 2500 batches). You may need to use the repeat() function when building your dataset.\n"
     ]
    },
    {
     "name": "stdout",
     "output_type": "stream",
     "text": [
      "250/250 [==============================] - 13s 43ms/step - loss: 0.1893 - accuracy: 0.9133 - val_loss: 3.6762e-05 - val_accuracy: 1.0000\n"
     ]
    },
    {
     "name": "stderr",
     "output_type": "stream",
     "text": [
      "WARNING:absl:Found untraced functions such as _jit_compiled_convolution_op, _jit_compiled_convolution_op, _jit_compiled_convolution_op, _jit_compiled_convolution_op, _update_step_xla while saving (showing 5 of 5). These functions will not be directly callable after loading.\n"
     ]
    },
    {
     "name": "stdout",
     "output_type": "stream",
     "text": [
      "INFO:tensorflow:Assets written to: classifier/assets\n"
     ]
    },
    {
     "name": "stderr",
     "output_type": "stream",
     "text": [
      "INFO:tensorflow:Assets written to: classifier/assets\n"
     ]
    }
   ],
   "source": [
    "model.fit_generator(train_dataset,\n",
    "    steps_per_epoch = 250,\n",
    "    epochs = 10,\n",
    "    validation_data = test_dataset\n",
    ")\n",
    "\n",
    "model.save('classifier')"
   ]
  },
  {
   "cell_type": "code",
   "execution_count": 48,
   "metadata": {},
   "outputs": [],
   "source": [
    "def predictImage(filename):\n",
    "    img1 = image.load_img(filename,target_size=(150,150))\n",
    "    model = tf.keras.models.load_model('classifier')\n",
    " \n",
    "    Y = image.img_to_array(img1)\n",
    "    \n",
    "    X = np.expand_dims(Y,axis=0)\n",
    "    val = model.predict(X, verbose=0)\n",
    "    return val[0][0]\n",
    "\n",
    "\n"
   ]
  },
  {
   "cell_type": "code",
   "execution_count": 49,
   "metadata": {},
   "outputs": [
    {
     "name": "stdout",
     "output_type": "stream",
     "text": [
      "84.png correct 0.0\n",
      "288.png correct 0.0\n",
      "566.png correct 0.0\n",
      "353.png correct 0.0\n",
      "278.png correct 0.0\n",
      "527.png correct 0.0\n",
      "33.png correct 0.0\n",
      "558.png correct 0.0\n",
      "360.png correct 0.0\n",
      "594.png correct 0.0\n",
      "130.png correct 0.0\n",
      "316.png correct 0.0\n",
      "169.png correct 0.0\n",
      "27.png correct 0.0\n",
      "108.png correct 0.0\n",
      "258.png correct 0.0\n",
      "339.png correct 0.0\n",
      "183.png correct 0.0\n",
      "160.png correct 0.0\n",
      "223.png correct 0.0\n",
      "62.png correct 0.0\n",
      "152.png correct 0.0\n",
      "503.png correct 0.0\n",
      "462.png correct 0.0\n",
      "116.png correct 0.0\n",
      "1.png correct 0.0\n",
      "593.png correct 0.0\n",
      "380.png correct 0.0\n",
      "533.png correct 0.0\n",
      "499.png correct 0.0\n",
      "284.png correct 0.0\n",
      "36.png correct 0.0\n",
      "226.png correct 0.0\n",
      "280.png correct 0.0\n",
      "237.png correct 0.0\n",
      "346.png correct 0.0\n",
      "338.png correct 0.0\n",
      "501.png correct 0.0\n",
      "86.png correct 0.0\n",
      "46.png correct 0.0\n",
      "61.png correct 0.0\n",
      "344.png correct 0.0\n",
      "323.png correct 0.0\n",
      "506.png correct 0.0\n",
      "150.png correct 0.0\n",
      "374.png correct 0.0\n",
      "586.png correct 0.0\n",
      "465.png correct 0.0\n",
      "44.png correct 0.0\n",
      "405.png correct 0.0\n",
      "84.png correct 1.0\n",
      "113.png correct 1.0\n",
      "106.png correct 1.0\n",
      "197.png correct 1.0\n",
      "144.png correct 1.0\n",
      "377.png correct 1.0\n",
      "33.png correct 1.0\n",
      "369.png correct 1.0\n",
      "45.png correct 1.0\n",
      "68.png correct 1.0\n",
      "536.png correct 1.0\n",
      "293.png correct 1.0\n",
      "222.png correct 1.0\n",
      "399.png correct 1.0\n",
      "587.png correct 1.0\n",
      "362.png correct 1.0\n",
      "277.png correct 1.0\n",
      "476.png correct 1.0\n",
      "285.png correct 1.0\n",
      "321.png correct 1.0\n",
      "462.png correct 1.0\n",
      "375.png correct 1.0\n",
      "54.png correct 1.0\n",
      "10.png correct 1.0\n",
      "592.png correct 1.0\n",
      "412.png correct 1.0\n",
      "571.png correct 1.0\n",
      "119.png correct 1.0\n",
      "514.png correct 1.0\n",
      "224.png correct 1.0\n",
      "171.png correct 1.0\n",
      "167.png correct 1.0\n",
      "563.png correct 1.0\n",
      "510.png correct 1.0\n",
      "487.png correct 1.0\n",
      "507.png correct 1.0\n",
      "20.png correct 1.0\n",
      "73.png correct 1.0\n",
      "253.png correct 1.0\n",
      "512.png correct 1.0\n",
      "75.png correct 1.0\n",
      "486.png correct 1.0\n",
      "29.png correct 1.0\n",
      "232.png correct 1.0\n",
      "347.png correct 1.0\n",
      "272.png correct 1.0\n",
      "252.png correct 1.0\n",
      "91.png correct 1.0\n",
      "528.png correct 1.0\n",
      "190.png correct 1.0\n"
     ]
    }
   ],
   "source": [
    "test_imposter = \"test/imposters\"\n",
    "test_valid_user = \"test/valid_user\"\n",
    "correct_count = 0\n",
    "wrong_count = 0\n",
    "count = 0\n",
    "\n",
    "for file in os.listdir(test_imposter):\n",
    "    id = predictImage(os.path.join(test_imposter, file))\n",
    "    count += 1\n",
    "    if id == 0:\n",
    "        correct_count += 1\n",
    "        print(f\"{file} correct {id}\")\n",
    "    else:\n",
    "        wrong_count += 1\n",
    "        print(f\"{file} wrong {id}\")\n",
    "\n",
    "\n",
    "for file in os.listdir(test_valid_user):\n",
    "    id = predictImage(os.path.join(test_valid_user, file))\n",
    "    count += 1\n",
    "    if id == 1:\n",
    "        correct_count += 1\n",
    "        print(f\"{file} correct {id}\")\n",
    "    else:\n",
    "        wrong_count += 1\n",
    "        print(f\"{file} wrong {id}\")"
   ]
  },
  {
   "cell_type": "code",
   "execution_count": 50,
   "metadata": {},
   "outputs": [
    {
     "name": "stdout",
     "output_type": "stream",
     "text": [
      "1.0\n"
     ]
    }
   ],
   "source": [
    "print(correct_count / count)\n"
   ]
  },
  {
   "cell_type": "code",
   "execution_count": null,
   "metadata": {},
   "outputs": [],
   "source": []
  }
 ],
 "metadata": {
  "kernelspec": {
   "display_name": "Python 3",
   "language": "python",
   "name": "python3"
  },
  "language_info": {
   "codemirror_mode": {
    "name": "ipython",
    "version": 3
   },
   "file_extension": ".py",
   "mimetype": "text/x-python",
   "name": "python",
   "nbconvert_exporter": "python",
   "pygments_lexer": "ipython3",
   "version": "3.8.10"
  },
  "orig_nbformat": 4,
  "vscode": {
   "interpreter": {
    "hash": "916dbcbb3f70747c44a77c7bcd40155683ae19c65e1c03b4aa3499c5328201f1"
   }
  }
 },
 "nbformat": 4,
 "nbformat_minor": 2
}
