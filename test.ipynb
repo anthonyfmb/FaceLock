{
 "cells": [
  {
   "cell_type": "code",
   "execution_count": 21,
   "metadata": {},
   "outputs": [
    {
     "name": "stdout",
     "output_type": "stream",
     "text": [
      "2\n",
      "8\n",
      "28\n"
     ]
    }
   ],
   "source": [
    "import requests\n",
    "import socket\n",
    "\n",
    "\n",
    "url = 'http://localhost:8000/customers/'\n",
    "hostname = socket.gethostname()   \n",
    "ip = socket.gethostbyname(hostname)\n",
    "\n",
    "data = {'name': ip, 'password': \"1234\"}\n",
    "resp = requests.post(url, json = data)\n",
    "resp = resp.content.decode()\n",
    "id_i = resp.find(\"id\")\n",
    "end_i = resp.find(\",\", id_i)\n",
    "id = resp[id_i + 4:end_i]"
   ]
  },
  {
   "cell_type": "code",
   "execution_count": 29,
   "metadata": {},
   "outputs": [
    {
     "name": "stdout",
     "output_type": "stream",
     "text": [
      "{\"id\":33,\"name\":\"10.184.0.80\",\"password\":\".%E^/k;,&v\\\\f{Q=Y:<3G\"}\n",
      ".%E^/k;,&v\\\\f{Q=Y:<3G\n"
     ]
    }
   ],
   "source": [
    "hostname = socket.gethostname()   \n",
    "ip = socket.gethostbyname(hostname)\n",
    "resp = requests.get(url + \"33/\")\n",
    "resp = resp.content.decode()\n",
    "print(resp)\n",
    "\n",
    "pass_i = resp.find(\"password\")\n",
    "end_i = resp.find(\",\", pass_i)\n",
    "password = resp[pass_i + len(\"password\") + 3:pass_i + len(\"password\") + 24]\n",
    "print(password)"
   ]
  },
  {
   "cell_type": "code",
   "execution_count": null,
   "metadata": {},
   "outputs": [],
   "source": []
  }
 ],
 "metadata": {
  "kernelspec": {
   "display_name": "facelock",
   "language": "python",
   "name": "python3"
  },
  "language_info": {
   "codemirror_mode": {
    "name": "ipython",
    "version": 3
   },
   "file_extension": ".py",
   "mimetype": "text/x-python",
   "name": "python",
   "nbconvert_exporter": "python",
   "pygments_lexer": "ipython3",
   "version": "3.10.9"
  },
  "orig_nbformat": 4,
  "vscode": {
   "interpreter": {
    "hash": "6c667892099f42bf555697e6ddd843b3e60f7e972b869da7d2b8ed02a4e7ccf9"
   }
  }
 },
 "nbformat": 4,
 "nbformat_minor": 2
}
